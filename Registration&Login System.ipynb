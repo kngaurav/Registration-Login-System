{
 "cells": [
  {
   "cell_type": "code",
   "execution_count": null,
   "id": "e629cdc5",
   "metadata": {},
   "outputs": [
    {
     "name": "stdout",
     "output_type": "stream",
     "text": [
      "Welcome to the system!\n",
      "Please choose what you would like to do.\n"
     ]
    }
   ],
   "source": [
    "  \n",
    "import re\n",
    "def register():\n",
    "    temp=0\n",
    "    pattern = \"^[a-z]+[a-z0-9._%+-]+@[A-Za-z0-9.-]+\\.[A-Z|a-z]{2,}\"\n",
    "   \n",
    "    username = input(\"Enter email id:\")\n",
    "    with open('database.txt','r') as efile:\n",
    "        if re.search(pattern,username):\n",
    "            for line in efile:\n",
    "                if username in line:\n",
    "                    print(\"Email already used in the system, kindly refresh the page and login\")\n",
    "                    temp=1\n",
    "        \n",
    "        else:\n",
    "            print(\"Please enter a valid email address\")\n",
    "            temp=1\n",
    "\n",
    "    import getpass\n",
    "    pattern = \"^.*(?=.{5,16})(?=.*[0-9])(?=.*[a-z])(?=.*[A-Z])(?=.*[!@#$%^&*])\"\n",
    "\n",
    "    password = getpass.getpass('Enter password :')\n",
    "    with open('database.txt', 'a') as pfile:\n",
    "        if re.search(pattern,password):\n",
    "            pfile.write(f\"\\n{username},{password}\")\n",
    "            print(\"Registration is Successful\")\n",
    "        else:\n",
    "            print(\"Invalid password selection. Please ensure the password contains both upper case and lower case letters along with numbers. It should also contain a special character.\")\n",
    "                  \n",
    "def forgot_password():\n",
    "    forgot_mail = input('Enter the registered email id:\\n')\n",
    "    with open('database.txt','r') as fp:\n",
    "        for line in fp:\n",
    "            if forgot_mail in line:\n",
    "                passw = line.split(',')\n",
    "                print(\"The Registered password is\",passw[1])   \n",
    "                break\n",
    "    \n",
    "def login():\n",
    "    global new_input\n",
    "    login_mail = input('E-mail:')\n",
    "    import getpass\n",
    "    login_pass = getpass.getpass('Password:')\n",
    "    \n",
    "    with open('database.txt','r') as lg:\n",
    "        for line in lg:\n",
    "            if login_mail and login_pass in line:\n",
    "                escape = re.sub(r\"(\\\\n|\\\\r|\\\\t|\\\\)\", \"\", line).strip()\n",
    "                check = escape.split(',')\n",
    "                if login_mail == check[0] and login_pass == check[-1]:\n",
    "                    print(\"Welcome! Page under construction. Please come back later. Ciao!\")\n",
    "                else:\n",
    "                    print(\"Invalid Selection\")\n",
    "\n",
    "# Main Body                    \n",
    "print(\"Welcome to the system!\")\n",
    "print(\"Please choose what you would like to do.\")\n",
    "option = input(\"1. Login | 2. Register | 3. Forgot Password\\n\")\n",
    "\n",
    "if option.lower() == \"login\" :\n",
    "    login()    \n",
    "elif option.lower() == \"register\" :\n",
    "    register()\n",
    "elif option.lower() == \"forgot password\" :\n",
    "    forgot_password()\n",
    "else:\n",
    "    print(\"Please enter a valid option.\")\n",
    "                                \n"
   ]
  },
  {
   "cell_type": "code",
   "execution_count": null,
   "id": "e55a5939",
   "metadata": {
    "collapsed": true
   },
   "outputs": [],
   "source": []
  }
 ],
 "metadata": {
  "kernelspec": {
   "display_name": "Python 3 (ipykernel)",
   "language": "python",
   "name": "python3"
  },
  "language_info": {
   "codemirror_mode": {
    "name": "ipython",
    "version": 3
   },
   "file_extension": ".py",
   "mimetype": "text/x-python",
   "name": "python",
   "nbconvert_exporter": "python",
   "pygments_lexer": "ipython3",
   "version": "3.9.7"
  }
 },
 "nbformat": 4,
 "nbformat_minor": 5
}
